{
 "cells": [
  {
   "cell_type": "code",
   "execution_count": 1,
   "id": "105a8468",
   "metadata": {},
   "outputs": [],
   "source": [
    "import numpy as np\n",
    "import pandas as pd\n",
    "import itertools\n",
    "import math\n",
    "import scipy.special\n",
    "import random\n",
    "import copy"
   ]
  },
  {
   "cell_type": "code",
   "execution_count": 2,
   "id": "9ba86124",
   "metadata": {},
   "outputs": [
    {
     "data": {
      "text/html": [
       "<div>\n",
       "<style scoped>\n",
       "    .dataframe tbody tr th:only-of-type {\n",
       "        vertical-align: middle;\n",
       "    }\n",
       "\n",
       "    .dataframe tbody tr th {\n",
       "        vertical-align: top;\n",
       "    }\n",
       "\n",
       "    .dataframe thead th {\n",
       "        text-align: right;\n",
       "    }\n",
       "</style>\n",
       "<table border=\"1\" class=\"dataframe\">\n",
       "  <thead>\n",
       "    <tr style=\"text-align: right;\">\n",
       "      <th></th>\n",
       "      <th>age</th>\n",
       "      <th>portembarked</th>\n",
       "      <th>fare</th>\n",
       "      <th>numparentschildren</th>\n",
       "      <th>passengerclass</th>\n",
       "      <th>sex</th>\n",
       "      <th>numsiblings</th>\n",
       "      <th>survived</th>\n",
       "    </tr>\n",
       "  </thead>\n",
       "  <tbody>\n",
       "    <tr>\n",
       "      <th>0</th>\n",
       "      <td>1</td>\n",
       "      <td>1</td>\n",
       "      <td>1</td>\n",
       "      <td>1</td>\n",
       "      <td>1</td>\n",
       "      <td>1</td>\n",
       "      <td>1</td>\n",
       "      <td>1</td>\n",
       "    </tr>\n",
       "    <tr>\n",
       "      <th>1</th>\n",
       "      <td>2</td>\n",
       "      <td>2</td>\n",
       "      <td>1</td>\n",
       "      <td>1</td>\n",
       "      <td>2</td>\n",
       "      <td>2</td>\n",
       "      <td>1</td>\n",
       "      <td>2</td>\n",
       "    </tr>\n",
       "    <tr>\n",
       "      <th>2</th>\n",
       "      <td>1</td>\n",
       "      <td>1</td>\n",
       "      <td>1</td>\n",
       "      <td>1</td>\n",
       "      <td>1</td>\n",
       "      <td>2</td>\n",
       "      <td>1</td>\n",
       "      <td>2</td>\n",
       "    </tr>\n",
       "    <tr>\n",
       "      <th>3</th>\n",
       "      <td>2</td>\n",
       "      <td>1</td>\n",
       "      <td>1</td>\n",
       "      <td>1</td>\n",
       "      <td>2</td>\n",
       "      <td>2</td>\n",
       "      <td>1</td>\n",
       "      <td>2</td>\n",
       "    </tr>\n",
       "    <tr>\n",
       "      <th>4</th>\n",
       "      <td>2</td>\n",
       "      <td>1</td>\n",
       "      <td>1</td>\n",
       "      <td>1</td>\n",
       "      <td>1</td>\n",
       "      <td>1</td>\n",
       "      <td>1</td>\n",
       "      <td>1</td>\n",
       "    </tr>\n",
       "  </tbody>\n",
       "</table>\n",
       "</div>"
      ],
      "text/plain": [
       "   age  portembarked  fare  numparentschildren  passengerclass  sex  \\\n",
       "0    1             1     1                   1               1    1   \n",
       "1    2             2     1                   1               2    2   \n",
       "2    1             1     1                   1               1    2   \n",
       "3    2             1     1                   1               2    2   \n",
       "4    2             1     1                   1               1    1   \n",
       "\n",
       "   numsiblings  survived  \n",
       "0            1         1  \n",
       "1            1         2  \n",
       "2            1         2  \n",
       "3            1         2  \n",
       "4            1         1  "
      ]
     },
     "execution_count": 2,
     "metadata": {},
     "output_type": "execute_result"
    }
   ],
   "source": [
    "data = pd.read_csv(\"small.csv\")\n",
    "data.head()"
   ]
  },
  {
   "cell_type": "code",
   "execution_count": 3,
   "id": "16a253b2",
   "metadata": {},
   "outputs": [],
   "source": [
    "def compute_all_combinations(var,parents,data):\n",
    "    #var is a dict of size 1 with var as key and list of values it can take as value\n",
    "    #Parents is a dict with parent names as keys and list of values they can take as values\n",
    "    \n",
    "    #Finding the different instances (Xi,Parents(Xi))\n",
    "    \n",
    "    values = []\n",
    "    variables = []\n",
    "    for elem in var.keys():\n",
    "        values.append(elem)\n",
    "        variables.append(var[elem])\n",
    "    for elem in parents.keys():\n",
    "        values.append(elem)\n",
    "        variables.append(parents[elem])\n",
    "    variables = list(itertools.product(*variables))\n",
    "    #Computing the M_ijk values and storing them\n",
    "    #There is maybe a faster time to do this check : https://stackoverflow.com/questions/27654474/count-the-tuples-of-a-pandas-dataframe\n",
    "    #getting the variable and parents names\n",
    "    var_name = list(var.keys())[0]\n",
    "    parent_names = list(parents.keys())\n",
    "    new_data = data[[var_name] + parent_names]\n",
    "    new_data.head()\n",
    "    #transforming the dataframe into a list of tuples\n",
    "    new_data = list(new_data.itertuples(index=False, name=None))\n",
    "    count_dict={}\n",
    "    for var in variables:\n",
    "        count_dict[var] = 0\n",
    "    for row in new_data:\n",
    "        count_dict[row] += 1\n",
    "    return count_dict\n",
    "            \n",
    "            \n",
    "        \n",
    "        \n",
    "    "
   ]
  },
  {
   "cell_type": "code",
   "execution_count": 4,
   "id": "7d656800",
   "metadata": {},
   "outputs": [
    {
     "name": "stdout",
     "output_type": "stream",
     "text": [
      "{(1, 1, 1): 152, (1, 1, 2): 40, (1, 2, 1): 37, (1, 2, 2): 90, (2, 1, 1): 283, (2, 1, 2): 65, (2, 2, 1): 43, (2, 2, 2): 130, (3, 1, 1): 33, (3, 1, 2): 4, (3, 2, 1): 1, (3, 2, 2): 11}\n"
     ]
    }
   ],
   "source": [
    "#Testing\n",
    "var = {\"age\":[1,2,3]}\n",
    "parents = {\"sex\":[1,2],\"survived\" : [1,2]}\n",
    "\n",
    "new_data = compute_all_combinations(var,parents,data)\n",
    "print(new_data)"
   ]
  },
  {
   "cell_type": "code",
   "execution_count": 5,
   "id": "cdeb2ff1",
   "metadata": {},
   "outputs": [],
   "source": [
    "def compute_fixed_parents(var,parent_values,count_dict):\n",
    "    #Var is a dict with all of the potential values as a value\n",
    "    #parent_values is a tuple of fixed parent values\n",
    "    var_name = list(var.keys())[0]\n",
    "    new_dict = {}\n",
    "    for elem in var[var_name]:\n",
    "        new_dict[elem] = 0\n",
    "    for key in count_dict.keys():\n",
    "        #Split the tuple to get the x_value and the parent instantiation\n",
    "        instantiation = key[1:]\n",
    "        if instantiation == parent_values:\n",
    "            new_dict[key[0]] += count_dict[key]\n",
    "    return new_dict\n",
    "        \n",
    "    "
   ]
  },
  {
   "cell_type": "code",
   "execution_count": 6,
   "id": "4f999eab",
   "metadata": {},
   "outputs": [
    {
     "name": "stdout",
     "output_type": "stream",
     "text": [
      "{1: 152, 2: 283, 3: 33}\n"
     ]
    }
   ],
   "source": [
    "count_dict = compute_fixed_parents(var,(1,1),new_data)\n",
    "print(count_dict)"
   ]
  },
  {
   "cell_type": "code",
   "execution_count": 7,
   "id": "c00bb3fe",
   "metadata": {},
   "outputs": [],
   "source": [
    "\n",
    "def first_sum(var,parent_values,count_dict):\n",
    "    x_counts = compute_fixed_parents(var,parent_values,count_dict)\n",
    "    m_ij_0 = sum(x_counts.values())\n",
    "    internal_sum = 0\n",
    "    for key in x_counts:\n",
    "        internal_sum += scipy.special.loggamma(1 + x_counts[key])\n",
    "    #Finding the value of r_i\n",
    "    var_name = list(var.keys())[0]\n",
    "    r_i = len(var[var_name])\n",
    "    internal_sum += (scipy.special.loggamma(r_i) - scipy.special.loggamma(r_i + m_ij_0))\n",
    "    \n",
    "    return internal_sum\n",
    "    \n",
    "        "
   ]
  },
  {
   "cell_type": "code",
   "execution_count": 8,
   "id": "cb01b08d",
   "metadata": {},
   "outputs": [
    {
     "name": "stdout",
     "output_type": "stream",
     "text": [
      "-406.56753981218185\n"
     ]
    }
   ],
   "source": [
    "print(first_sum(var,(1,1),new_data))"
   ]
  },
  {
   "cell_type": "code",
   "execution_count": 62,
   "id": "e88400a0",
   "metadata": {},
   "outputs": [],
   "source": [
    "def sum_over_parents(var,parents,data):\n",
    "    new_data_counts = compute_all_combinations(var,parents,data)\n",
    "    parent_values = set()\n",
    "    #Finding all the parents combinations\n",
    "    for key in new_data_counts.keys():\n",
    "        extracted_value = key[1:]\n",
    "        parent_values.add(extracted_value)\n",
    "    #Computing the outer-internal sum of the score\n",
    "    ret_sum = 0\n",
    "    for instantiation in parent_values:\n",
    "        ret_sum += first_sum(var,instantiation,new_data_counts)\n",
    "    return ret_sum\n",
    "        \n",
    "\n",
    "        \n",
    "    "
   ]
  },
  {
   "cell_type": "code",
   "execution_count": 87,
   "id": "38fe443e",
   "metadata": {},
   "outputs": [],
   "source": [
    "import networkx as nx\n",
    "\n",
    "\n",
    "class BayesianNetwork:\n",
    "    \n",
    "    def __init__(self,variables = [],edges = []):\n",
    "        self.variables = variables\n",
    "        self.parents = {}\n",
    "        self.edges = []\n",
    "        #Creating a dictionary for storing dependency relationships between variables\n",
    "        for node in variables:\n",
    "            self.parents[node] = []\n",
    "        self.add_edges(edges)\n",
    "            \n",
    "    #Adding a dependency\n",
    "    def add_edge(self,edge):\n",
    "        self.edges.append(edge)\n",
    "        self.parents[edge[1]].append(edge[0])\n",
    "    \n",
    "    \n",
    "    def add_edges(self,edges):\n",
    "        for edge in edges:\n",
    "            self.edges.append(edge)\n",
    "            self.parents[edge[1]].append(edge[0])\n",
    "\n",
    "    #Removing a dependency\n",
    "    def remove_edge(self,edge):\n",
    "        if edge[0] in self.parents[edge[1]]:\n",
    "            self.parents[edge[1]].remove(edge[0])\n",
    "            self.edges.remove(edge)\n",
    "    \n",
    "\n",
    "    #Creating a new Bayesian network\n",
    "\n",
    "    def copy(self):\n",
    "        return BayesianNetwork(self.variables,self.edges.copy())\n",
    "    \n",
    "    def show_network(self):\n",
    "        nx_graph = nx.DiGraph()\n",
    "        nx_graph.add_nodes_from(self.variables)\n",
    "        nx_graph.add_edges_from(self.edges)\n",
    "        nx.draw(nx_graph,with_labels = True)\n",
    "        \n",
    "    \n",
    "    def __eq__(self,graph):\n",
    "        set_1 = set(self.edges)\n",
    "        set_2 = set(graph.edges)\n",
    "        return set_1 == set_2\n",
    "        \n",
    "            \n",
    "        \n",
    "    "
   ]
  },
  {
   "cell_type": "code",
   "execution_count": 88,
   "id": "e7963f78",
   "metadata": {},
   "outputs": [],
   "source": [
    "def get_variable_values(df):\n",
    "    return {c: list(df[c].unique()) for c in df.columns}\n",
    "    "
   ]
  },
  {
   "cell_type": "code",
   "execution_count": 89,
   "id": "43357e39",
   "metadata": {},
   "outputs": [],
   "source": [
    "def compute_score(network,data,variable_values):\n",
    "    score = 0\n",
    "    for variable in variable_values.keys():\n",
    "        #On a besoin d'un argument {variable_actuelle : valeurs}\n",
    "        var_dict = {}\n",
    "        var_dict[variable] = variable_values[variable]\n",
    "        #Et d'un autre arguments {parents de la variable : leur valeurs}\n",
    "        parents_dict = {}\n",
    "        for parent in network.parents[variable]:\n",
    "            parents_dict[parent] = variable_values[parent]\n",
    "        score += sum_over_parents(var_dict,parents_dict,data)\n",
    "    return score\n",
    "        \n",
    "            \n",
    "        "
   ]
  },
  {
   "cell_type": "code",
   "execution_count": 90,
   "id": "53591aa9",
   "metadata": {},
   "outputs": [
    {
     "name": "stdout",
     "output_type": "stream",
     "text": [
      "{'age': [1, 2, 3], 'portembarked': [1, 2, 3], 'fare': [1, 2, 3], 'numparentschildren': [1, 2, 3], 'passengerclass': [1, 2, 3], 'sex': [1, 2], 'numsiblings': [1, 2, 3], 'survived': [1, 2]}\n"
     ]
    }
   ],
   "source": [
    "#Test \n",
    "print(get_variable_values(data))"
   ]
  },
  {
   "cell_type": "code",
   "execution_count": 91,
   "id": "13bc5ee6",
   "metadata": {},
   "outputs": [
    {
     "name": "stdout",
     "output_type": "stream",
     "text": [
      "we here\n"
     ]
    },
    {
     "data": {
      "text/plain": [
       "-4163.79120315116"
      ]
     },
     "execution_count": 91,
     "metadata": {},
     "output_type": "execute_result"
    }
   ],
   "source": [
    "variable_values = get_variable_values(data)\n",
    "network = BayesianNetwork(list(variable_values.keys()),[(\"age\",\"sex\"),(\"numsiblings\",\"survived\")])\n",
    "print(\"we here\")\n",
    "compute_score(network,data,variable_values)"
   ]
  },
  {
   "cell_type": "code",
   "execution_count": 92,
   "id": "4d09c467",
   "metadata": {},
   "outputs": [],
   "source": [
    "def has_cycle(network,added_edge,reverse = False):\n",
    "    graph = {}\n",
    "    for elem in network.parents.keys():\n",
    "        graph[elem] = []\n",
    "        for elem_2 in network.parents[elem]:\n",
    "            graph[elem].append(elem_2)\n",
    "    if reverse: #If reversing the graph, we need to remove the edge from the adjacency list before adding\n",
    "                #its reverse\n",
    "        graph[added_edge[0]].remove(added_edge[1])\n",
    "        graph[added_edge[1]].append(added_edge[0])\n",
    "    else:\n",
    "        #If we add an edge\n",
    "        graph[added_edge[1]].append(added_edge[0])\n",
    "    visited = set()\n",
    "    stack = set()\n",
    "    # DFS function\n",
    "    def dfs(node):\n",
    "        visited.add(node)\n",
    "        stack.add(node)\n",
    "        if node in graph:\n",
    "            for parent in graph[node]:\n",
    "                if parent not in visited:\n",
    "                    if dfs(parent):\n",
    "                        return True\n",
    "                elif parent in stack:\n",
    "                    return True\n",
    "        stack.remove(node)\n",
    "        return False\n",
    "    # Check for cycles\n",
    "    for node in graph:\n",
    "        if node not in visited:\n",
    "            if dfs(node):\n",
    "                return True\n",
    "    return False\n",
    "\n",
    "def get_new_network(network):\n",
    "        #Choosing from either deleting an edge or adding one\n",
    "        i = random.randint(0,2)\n",
    "        new_network = network.copy()\n",
    "        #Adding an edge\n",
    "        u , w = random.randint(0,len(network.variables) - 1),random.randint(0,len(network.variables) - 1)\n",
    "        if i == 0 or (len(network.edges) == 0):\n",
    "            simple_digraph = False\n",
    "            while(True):\n",
    "                u , w = random.randint(0,len(network.variables) - 1),random.randint(0,len(network.variables) - 1)\n",
    "                #Checking if it's a new edge\n",
    "                if (network.variables[u] not in network.parents[network.variables[w]]):\n",
    "                    #Checking if it's not a loop and that it does not create a cycle\n",
    "                    if ((u != w) and not(has_cycle(network,(network.variables[u],network.variables[w])))):\n",
    "                        new_network.add_edge((network.variables[u],network.variables[w]))\n",
    "                        break\n",
    "        #Deleting an edge\n",
    "        elif i == 1:\n",
    "            while(network.variables[u] not in network.parents[network.variables[w]]):\n",
    "                u , w = random.randint(0,len(network.variables) - 1),random.randint(0,len(network.variables) - 1)\n",
    "            new_network.remove_edge((network.variables[u],network.variables[w]))\n",
    "        #Reversing an edge\n",
    "        else:\n",
    "            visited = set()\n",
    "            #Choosing a random edge to reverse\n",
    "            while(True):\n",
    "                if len(visited) == len(network.edges):\n",
    "                    return network\n",
    "                i = random.randint(0,len(network.edges)-1)\n",
    "                var_1,var_2 = network.edges[i]\n",
    "                if (var_1,var_2) in visited:\n",
    "                    continue\n",
    "                visited.add((var_1,var_2))\n",
    "                #Checking if reversing an edge does not create a cycle\n",
    "                if not(has_cycle(network,(var_2,var_1),reverse = True)):\n",
    "                    new_network.remove_edge(network.edges[i])\n",
    "                    new_network.add_edge((var_2,var_1))\n",
    "                    break\n",
    "        return new_network\n",
    "            \n",
    "                "
   ]
  },
  {
   "cell_type": "code",
   "execution_count": 93,
   "id": "3effa015",
   "metadata": {},
   "outputs": [],
   "source": [
    "new_network = get_new_network(network)"
   ]
  },
  {
   "cell_type": "code",
   "execution_count": 94,
   "id": "2d7e5245",
   "metadata": {},
   "outputs": [
    {
     "data": {
      "image/png": "[encoded data removed]",
      "text/plain": [
       "<Figure size 432x288 with 1 Axes>"
      ]
     },
     "metadata": {},
     "output_type": "display_data"
    }
   ],
   "source": [
    "new_network.show_network()"
   ]
  },
  {
   "cell_type": "code",
   "execution_count": 95,
   "id": "735d8be8",
   "metadata": {},
   "outputs": [
    {
     "data": {
      "text/plain": [
       "-4167.3133047217725"
      ]
     },
     "execution_count": 95,
     "metadata": {},
     "output_type": "execute_result"
    }
   ],
   "source": [
    "compute_score(new_network,data,variable_values)"
   ]
  },
  {
   "cell_type": "code",
   "execution_count": 103,
   "id": "00da6f71",
   "metadata": {},
   "outputs": [],
   "source": [
    "def acceptance_probability(old_score, new_score, temperature):\n",
    "    if new_score > old_score:\n",
    "        return 1.0\n",
    "    else:\n",
    "        return np.exp((new_score - old_score) / temperature)\n",
    "\n",
    "\n",
    "def bn_simulated_annealing(data,init_network,temperature = 1000,cooling_rate = 0.95,max_iterations = 1000):\n",
    "    variable_values = get_variable_values(data)\n",
    "    current_network = init_network.copy()\n",
    "    current_score = compute_score(current_network,data,variable_values)\n",
    "    print(current_score)\n",
    "    visited_graphs = set()\n",
    "    for i in range(max_iterations):\n",
    "        if (i % 10 == 0):\n",
    "            #print(\"iteration\",i)\n",
    "            pass\n",
    "        new_network = get_new_network(current_network)\n",
    "        new_score = compute_score(new_network,data,variable_values)\n",
    "        \n",
    "        prob = acceptance_probability(current_score, new_score, temperature)\n",
    "        rand = np.random.rand()\n",
    "        if  rand < prob:\n",
    "            current_network = new_network\n",
    "            current_score = new_score\n",
    "            #print(current_score)\n",
    "        temperature *= cooling_rate\n",
    "    print(\"optimal network score\",current_score)\n",
    "    return current_network\n",
    "    "
   ]
  },
  {
   "cell_type": "code",
   "execution_count": 104,
   "id": "b11d4866",
   "metadata": {},
   "outputs": [
    {
     "data": {
      "image/png": "[encoded data removed]",
      "text/plain": [
       "<Figure size 432x288 with 1 Axes>"
      ]
     },
     "metadata": {},
     "output_type": "display_data"
    }
   ],
   "source": [
    "other_network = BayesianNetwork(variables = list(variable_values.keys()))\n",
    "other_network.show_network()"
   ]
  },
  {
   "cell_type": "code",
   "execution_count": 105,
   "id": "23ce83b6",
   "metadata": {},
   "outputs": [
    {
     "name": "stdout",
     "output_type": "stream",
     "text": [
      "-4166.225858784904\n",
      "optimal network score -3794.8555977097963\n"
     ]
    }
   ],
   "source": [
    "optimal_network = bn_simulated_annealing(data, other_network)"
   ]
  },
  {
   "cell_type": "code",
   "execution_count": 106,
   "id": "d109c096",
   "metadata": {},
   "outputs": [
    {
     "name": "stdout",
     "output_type": "stream",
     "text": [
      "\n",
      "[df2onehot] >Auto detecting dtypes.\n"
     ]
    },
    {
     "name": "stderr",
     "output_type": "stream",
     "text": [
      "100%|████████████████████████████████████████████████████████████████████████████████████| 8/8 [00:00<00:00, 140.56it/s]\n"
     ]
    },
    {
     "name": "stdout",
     "output_type": "stream",
     "text": [
      "[df2onehot] >Set dtypes in dataframe..\n"
     ]
    },
    {
     "name": "stderr",
     "output_type": "stream",
     "text": [
      "100%|████████████████████████████████████████████████████████████████████████████████████| 8/8 [00:00<00:00, 286.01it/s]"
     ]
    },
    {
     "name": "stdout",
     "output_type": "stream",
     "text": [
      "[df2onehot] >Total onehot features: 20\n",
      "[bnlearn] >Computing best DAG using [hc]\n",
      "[bnlearn] >Set scoring type at [bic]\n"
     ]
    },
    {
     "name": "stderr",
     "output_type": "stream",
     "text": [
      "\n"
     ]
    },
    {
     "name": "stdout",
     "output_type": "stream",
     "text": [
      "[bnlearn] >Compute structure scores ['k2', 'bds', 'bic', 'bdeu'] for model comparison (higher is better).\n",
      "[bnlearn] >Set node properties.\n",
      "[bnlearn] >Set edge properties.\n",
      "[bnlearn] >Plot based on Bayesian model\n"
     ]
    },
    {
     "data": {
      "image/png": "[encoded data removed]",
      "text/plain": [
       "<Figure size 1080x720 with 1 Axes>"
      ]
     },
     "metadata": {},
     "output_type": "display_data"
    }
   ],
   "source": [
    "import bnlearn as bn\n",
    "\n",
    "# Load dataframe\n",
    "# Pre-processing of the input dataset\n",
    "dfhot, dfnum = bn.df2onehot(data)\n",
    "\n",
    "# Structure learning\n",
    "DAG = bn.structure_learning.fit(dfnum)\n",
    "\n",
    "# Plot\n",
    "G = bn.plot(DAG)"
   ]
  },
  {
   "cell_type": "code",
   "execution_count": 102,
   "id": "f479eab6",
   "metadata": {},
   "outputs": [
    {
     "data": {
      "image/png": "[encoded data removed]",
      "text/plain": [
       "<Figure size 432x288 with 1 Axes>"
      ]
     },
     "metadata": {},
     "output_type": "display_data"
    }
   ],
   "source": [
    "optimal_network.show_network()"
   ]
  },
  {
   "cell_type": "code",
   "execution_count": 86,
   "id": "0d547530",
   "metadata": {},
   "outputs": [
    {
     "data": {
      "image/png": "[encoded data removed]",
      "text/plain": [
       "<Figure size 432x288 with 1 Axes>"
      ]
     },
     "metadata": {},
     "output_type": "display_data"
    }
   ],
   "source": [
    "optimal_network.show_network()"
   ]
  },
  {
   "cell_type": "code",
   "execution_count": null,
   "id": "fe3226c6",
   "metadata": {},
   "outputs": [],
   "source": []
  }
 ],
 "metadata": {
  "kernelspec": {
   "display_name": "Python 3 (ipykernel)",
   "language": "python",
   "name": "python3"
  },
  "language_info": {
   "codemirror_mode": {
    "name": "ipython",
    "version": 3
   },
   "file_extension": ".py",
   "mimetype": "text/x-python",
   "name": "python",
   "nbconvert_exporter": "python",
   "pygments_lexer": "ipython3",
   "version": "3.9.12"
  }
 },
 "nbformat": 4,
 "nbformat_minor": 5
}
